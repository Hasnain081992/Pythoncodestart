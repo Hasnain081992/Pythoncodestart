{
 "cells": [
  {
   "cell_type": "code",
   "execution_count": null,
   "metadata": {},
   "outputs": [],
   "source": []
  },
  {
   "cell_type": "code",
   "execution_count": 33,
   "metadata": {},
   "outputs": [
    {
     "name": "stdout",
     "output_type": "stream",
     "text": [
      "Hy my name is hasnain\n"
     ]
    }
   ],
   "source": [
    "a = 'Hy my name is hasnain'\n",
    "print(a)"
   ]
  },
  {
   "cell_type": "code",
   "execution_count": 34,
   "metadata": {},
   "outputs": [
    {
     "name": "stdout",
     "output_type": "stream",
     "text": [
      "Hy my name is Hasnain .\n",
      "  I am living in basingstoke\n"
     ]
    }
   ],
   "source": [
    "a = 'Hy my name is Hasnain .\\n  I am living in basingstoke'\n",
    "\n",
    "print(a)"
   ]
  },
  {
   "cell_type": "code",
   "execution_count": 35,
   "metadata": {},
   "outputs": [
    {
     "name": "stdout",
     "output_type": "stream",
     "text": [
      "6\n",
      "6\n",
      "11\n",
      "8\n"
     ]
    }
   ],
   "source": [
    "place = ['London','camden','basingstoke','Lecister']\n",
    "for destination in place:\n",
    "    print(len(destination))"
   ]
  },
  {
   "cell_type": "code",
   "execution_count": 36,
   "metadata": {},
   "outputs": [
    {
     "name": "stdout",
     "output_type": "stream",
     "text": [
      "I am absent\n",
      "I am present\n",
      "I am absent\n",
      "I am absent\n"
     ]
    }
   ],
   "source": [
    "users = ['Has','Ibta','jibtu','patuta']\n",
    "for name in users:\n",
    "    if name =='Ibta':\n",
    "        print('I am present')\n",
    "    else:\n",
    "        print('I am absent')"
   ]
  },
  {
   "cell_type": "code",
   "execution_count": 37,
   "metadata": {},
   "outputs": [
    {
     "name": "stdout",
     "output_type": "stream",
     "text": [
      "one 3\n",
      "four 4\n",
      "three 5\n",
      "eight 5\n"
     ]
    }
   ],
   "source": [
    "i = ['one','four','three','eight']\n",
    "for num in i:\n",
    "    print(num,len(num))"
   ]
  },
  {
   "cell_type": "code",
   "execution_count": 53,
   "metadata": {},
   "outputs": [
    {
     "name": "stdout",
     "output_type": "stream",
     "text": [
      "The number is even  2\n",
      "The number is odd 3\n",
      "The number is even  4\n",
      "The number is odd 5\n",
      "The number is even  6\n",
      "The number is odd 7\n",
      "The number is even  8\n",
      "The number is odd 9\n",
      "The number is even  10\n",
      "The number is odd 11\n",
      "The number is even  12\n",
      "The number is odd 13\n",
      "The number is even  14\n",
      "The number is odd 15\n",
      "The number is even  16\n",
      "The number is odd 17\n",
      "The number is even  18\n",
      "The number is odd 19\n"
     ]
    }
   ],
   "source": [
    "# odd and even numbers\n",
    "for i in range(2,20):\n",
    "    if i % 2 == 0:\n",
    "        print(f\"The number is even  {i}\")\n",
    "        continue\n",
    "    print(f\"The number is odd {i}\")\n",
    "        "
   ]
  },
  {
   "cell_type": "code",
   "execution_count": 55,
   "metadata": {},
   "outputs": [
    {
     "name": "stdout",
     "output_type": "stream",
     "text": [
      "The number is even 2\n",
      "The number is odd 3\n",
      "The number is even 4\n",
      "The number is odd 5\n",
      "The number is even 6\n",
      "The number is odd 7\n",
      "The number is even 8\n",
      "The number is odd 9\n"
     ]
    }
   ],
   "source": [
    "for i in range(2,10):\n",
    "    if i %2 == 0:\n",
    "        print(f\"The number is even {i}\")\n",
    "        continue\n",
    "    print(f\"The number is odd {i}\")"
   ]
  },
  {
   "cell_type": "code",
   "execution_count": null,
   "metadata": {},
   "outputs": [],
   "source": []
  }
 ],
 "metadata": {
  "kernelspec": {
   "display_name": "Python 3",
   "language": "python",
   "name": "python3"
  },
  "language_info": {
   "codemirror_mode": {
    "name": "ipython",
    "version": 3
   },
   "file_extension": ".py",
   "mimetype": "text/x-python",
   "name": "python",
   "nbconvert_exporter": "python",
   "pygments_lexer": "ipython3",
   "version": "3.13.0"
  }
 },
 "nbformat": 4,
 "nbformat_minor": 2
}
